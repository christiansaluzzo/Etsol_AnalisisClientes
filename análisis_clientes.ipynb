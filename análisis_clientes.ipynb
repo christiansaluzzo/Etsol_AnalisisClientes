{
 "cells": [
  {
   "cell_type": "markdown",
   "id": "2dd73bce",
   "metadata": {},
   "source": [
    "## Análisis Comercial de clientes"
   ]
  },
  {
   "cell_type": "code",
   "execution_count": null,
   "id": "b1653d40",
   "metadata": {},
   "outputs": [],
   "source": [
    "# 1. Librerías\n",
    "import pandas as pd\n",
    "import numpy as np\n",
    "import matplotlib.pyplot as plt\n",
    "import seaborn as sns\n",
    "from sklearn.preprocessing import StandardScaler\n",
    "from sklearn.cluster import KMeans\n",
    "import plotly.express as px\n",
    "\n",
    "# Configuración visual\n",
    "pd.set_option('display.max_columns', None)\n",
    "sns.set(style=\"whitegrid\", palette=\"muted\", font_scale=1.1)\n"
   ]
  },
  {
   "cell_type": "markdown",
   "id": "2abe0625",
   "metadata": {},
   "source": [
    "## Carga de Datos"
   ]
  },
  {
   "cell_type": "code",
   "execution_count": null,
   "id": "903549ec",
   "metadata": {},
   "outputs": [],
   "source": [
    "# Cargar desde CSV (puedes adaptarlo para leer desde BD o Excel)\n",
    "# El CSV debería tener columnas como: Cliente, Licencias, Productos, Tickets, Llamadas, Antiguedad_Anios\n",
    "df = pd.read_csv(\"clientes.csv\")\n",
    "\n",
    "print(\"Vista previa de datos:\")\n",
    "display(df.head())\n",
    "print(\"\\nInformación general:\")\n",
    "print(df.info())\n",
    "\n"
   ]
  },
  {
   "cell_type": "code",
   "execution_count": null,
   "id": "9a6dae48",
   "metadata": {},
   "outputs": [],
   "source": [
    "# =====================================================\n",
    "# 3. LIMPIEZA Y PREPARACIÓN\n",
    "# =====================================================\n",
    "# Eliminar duplicados\n",
    "df = df.drop_duplicates()\n",
    "\n",
    "# Manejo de valores nulos\n",
    "df = df.fillna(0)\n",
    "\n",
    "# Crear métricas derivadas\n",
    "df[\"Solicitudes_Total\"] = df[\"Tickets\"] + df[\"Llamadas\"]\n",
    "df[\"Solicitudes_por_Licencia\"] = df[\"Solicitudes_Total\"] / df[\"Licencias\"].replace(0, np.nan)\n",
    "df[\"Productos_por_Año\"] = df[\"Productos\"] / df[\"Antiguedad_Anios\"].replace(0, np.nan)\n",
    "\n"
   ]
  },
  {
   "cell_type": "code",
   "execution_count": null,
   "id": "dd086e18",
   "metadata": {},
   "outputs": [],
   "source": [
    "# =====================================================\n",
    "# 4. ANÁLISIS EXPLORATORIO\n",
    "# =====================================================\n",
    "\n",
    "# Estadísticas descriptivas\n",
    "print(\"\\nEstadísticas generales:\")\n",
    "display(df.describe())\n",
    "\n",
    "# Distribución de clientes por licencias\n",
    "plt.figure(figsize=(8,5))\n",
    "sns.histplot(df[\"Licencias\"], bins=20, kde=True)\n",
    "plt.title(\"Distribución de Licencias por Cliente\")\n",
    "plt.show()\n",
    "\n",
    "# Relación Licencias vs. Tickets\n",
    "plt.figure(figsize=(8,5))\n",
    "sns.scatterplot(data=df, x=\"Licencias\", y=\"Tickets\")\n",
    "plt.title(\"Licencias vs Tickets\")\n",
    "plt.show()\n",
    "\n",
    "# Pareto: clientes que más solicitudes generan\n",
    "df_pareto = df.sort_values(\"Solicitudes_Total\", ascending=False)\n",
    "df_pareto[\"% Acumulado\"] = df_pareto[\"Solicitudes_Total\"].cumsum() / df_pareto[\"Solicitudes_Total\"].sum() * 100\n",
    "\n",
    "fig = px.bar(df_pareto, x=\"Cliente\", y=\"Solicitudes_Total\", title=\"Pareto de Solicitudes por Cliente\")\n",
    "fig.add_scatter(x=df_pareto[\"Cliente\"], y=df_pareto[\"% Acumulado\"], mode=\"lines+markers\", name=\"% Acumulado\")\n",
    "fig.show()\n",
    "\n"
   ]
  },
  {
   "cell_type": "code",
   "execution_count": null,
   "id": "3cd53b8a",
   "metadata": {},
   "outputs": [],
   "source": [
    "# =====================================================\n",
    "# 5. SEGMENTACIÓN DE CLIENTES (CLUSTERING)\n",
    "# =====================================================\n",
    "\n",
    "# Seleccionar variables para el modelo\n",
    "vars_modelo = [\"Licencias\", \"Productos\", \"Solicitudes_Total\", \"Antiguedad_Anios\"]\n",
    "X = df[vars_modelo]\n",
    "\n",
    "# Escalado\n",
    "scaler = StandardScaler()\n",
    "X_scaled = scaler.fit_transform(X)\n",
    "\n",
    "# K-Means\n",
    "kmeans = KMeans(n_clusters=3, random_state=42)\n",
    "df[\"Cluster\"] = kmeans.fit_predict(X_scaled)\n",
    "\n",
    "# Visualización de clusters\n",
    "fig = px.scatter_3d(df, x=\"Licencias\", y=\"Productos\", z=\"Solicitudes_Total\",\n",
    "                    color=\"Cluster\", hover_data=[\"Cliente\"])\n",
    "fig.show()\n",
    "\n"
   ]
  },
  {
   "cell_type": "code",
   "execution_count": null,
   "id": "43dba3cb",
   "metadata": {},
   "outputs": [],
   "source": [
    "# =====================================================\n",
    "# 6. INSIGHTS INICIALES\n",
    "# =====================================================\n",
    "# Agrupar por cluster para ver promedios\n",
    "insights = df.groupby(\"Cluster\")[vars_modelo].mean()\n",
    "print(\"\\nPromedios por cluster:\")\n",
    "display(insights)\n",
    "\n",
    "# Guardar resultados\n",
    "df.to_csv(\"clientes_segmentados.csv\", index=False)\n",
    "print(\"\\nArchivo 'clientes_segmentados.csv' generado.\")"
   ]
  }
 ],
 "metadata": {
  "kernelspec": {
   "display_name": ".env",
   "language": "python",
   "name": "python3"
  },
  "language_info": {
   "codemirror_mode": {
    "name": "ipython",
    "version": 3
   },
   "file_extension": ".py",
   "mimetype": "text/x-python",
   "name": "python",
   "nbconvert_exporter": "python",
   "pygments_lexer": "ipython3",
   "version": "3.12.3"
  }
 },
 "nbformat": 4,
 "nbformat_minor": 5
}
